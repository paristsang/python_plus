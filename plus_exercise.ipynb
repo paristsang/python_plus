{
  "nbformat": 4,
  "nbformat_minor": 0,
  "metadata": {
    "colab": {
      "provenance": []
    },
    "kernelspec": {
      "name": "python3",
      "display_name": "Python 3"
    },
    "language_info": {
      "name": "python"
    }
  },
  "cells": [
    {
      "cell_type": "markdown",
      "source": [
        "***Άσκηση plus 1.*** Ζητείται να γραφτεί ένα πρόγραμμα προσομοίωσης μιας απλής αριθμομηχανής. Ζητείται από τον χρήστη να ορίσει δυο αριθμούς και μια αριθμητική πράξη. Επιτρεπόμενες αριθμητικές πράξεις είναι οι εξής: πρόσθεση, αφαίρεση, πολλαπλασιασμός, διαίρεση, εύρεση ακέραιου και υπόλοιπου πηλίκου διαίρεσης. "
      ],
      "metadata": {
        "id": "7SfvwHmsDBh_"
      }
    },
    {
      "cell_type": "code",
      "execution_count": 3,
      "metadata": {
        "colab": {
          "base_uri": "https://localhost:8080/"
        },
        "id": "yRiifJjrA-55",
        "outputId": "0ee0e644-09c9-4145-e2e7-599e232347fa"
      },
      "outputs": [
        {
          "output_type": "stream",
          "name": "stdout",
          "text": [
            "Enter first number: 3.456\n",
            "What you want to do (+, -, *, /, %): *\n",
            "Enter second number: 54.234\n",
            "\n",
            "3.456 * 54.234 = 187.432704\n"
          ]
        }
      ],
      "source": [
        "def arithmetic_operation(num1, num2, operator):\n",
        "    if operator == \"+\":\n",
        "        return num1 + num2\n",
        "    elif operator == \"-\":\n",
        "        return num1 - num2\n",
        "    elif operator == \"*\":\n",
        "        return num1 * num2\n",
        "    elif operator == \"/\":\n",
        "        if num2 != 0:\n",
        "            return num1 / num2\n",
        "        else:\n",
        "            return \"Error: division by zero\"\n",
        "    elif operator == \"%\":\n",
        "        if num2 != 0:\n",
        "            return num1 % num2\n",
        "        else:\n",
        "            return \"Error: modulo by zero\"\n",
        "    else:\n",
        "        return \"Error: invalid operator\"\n",
        "\n",
        "\n",
        "# Take input from the user\n",
        "num1 = float(input(\"Enter first number: \"))\n",
        "operator = input(\"What you want to do (+, -, *, /, %): \")\n",
        "num2 = float(input(\"Enter second number: \"))\n",
        "\n",
        "result = arithmetic_operation(num1, num2, operator)\n",
        "\n",
        "print(f\"\\n{num1} {operator} {num2} = {result}\")\n"
      ]
    },
    {
      "cell_type": "markdown",
      "source": [
        "Ο δεδομένος κώδικας ορίζει μια συνάρτηση που ονομάζεται arithmetic_operation() η οποία εκτελεί απλές αριθμητικές πράξεις σε δύο αριθμητικές τιμές num1 και num2 με βάση τον τελεστή που του παρέχεται ως τρίτος τελεστής ορίσματος.\n",
        "\n",
        "Οι όροι if, elif και else χρησιμοποιούνται για να ελεγχθεί εάν ο τελεστής είναι έγκυρος ή όχι. Εάν δεν είναι έγκυρος τελεστής, η συνάρτηση επιστρέφει μια συμβολοσειρά σφάλματος \"Error: invalid operator\". Διαφορετικά, εκτελεί την αντίστοιχη αριθμητική πράξη με βάση τον τελεστή εισόδου.\n",
        "Για τους τελεστές διαίρεσης (/) και modulo (%), η συνθήκη if num2 != 0: ελέγχεται πρώτα για να αποφευχθεί το ZeroDivisionError. Εάν το num2 είναι μηδέν για αυτούς τους τελεστές, τότε η συνάρτηση θα πρέπει να επιστρέψει ένα μήνυμα σφάλματος \"Error: division by zero\" ή \"Error: modulo by zero\" αντίστοιχα.\n",
        "Μετά τον καθορισμό αυτής της συνάρτησης, ο κωδικός λαμβάνει την είσοδο του χρήστη για δύο αριθμούς num1 και num2 και έναν τελεστή χειριστή. Στη συνέχεια καλεί την καθορισμένη συνάρτηση arithmetic_operation() για να εκτελέσει τον υπολογισμό και να αποθηκεύσει το αποτέλεσμα σε ένα μεταβλητό αποτέλεσμα. Τέλος, εκτυπώνεται μια μορφοποιημένη συμβολοσειρά για να εμφανιστεί ολόκληρη η αριθμητική παράσταση μαζί με το αποτέλεσμά της."
      ],
      "metadata": {
        "id": "lkI4lrd3CJNA"
      }
    },
    {
      "cell_type": "markdown",
      "source": [
        "***Άσκηση plus 2.*** Ζητείται να γραφτεί κώδικας που θα βρίσκει το άθροισμα μιας σειράς αριθμών που υπάρχουν σε μια λίστα. "
      ],
      "metadata": {
        "id": "3-vN_tBQBB5q"
      }
    },
    {
      "cell_type": "code",
      "source": [
        "def get_sum(nums):\n",
        "   sum = 0\n",
        "   for num in nums:\n",
        "       sum = sum + num\n",
        "   return sum \n",
        "nums = [13,89,65,42,12,11,56] \n",
        "total = get_sum(nums)\n",
        "print(\"The total of each elements:\",total)"
      ],
      "metadata": {
        "colab": {
          "base_uri": "https://localhost:8080/"
        },
        "id": "oqihPe-yFBAH",
        "outputId": "7d7e95b9-6ca5-4d2a-bc1d-779805dd06c1"
      },
      "execution_count": 4,
      "outputs": [
        {
          "output_type": "stream",
          "name": "stdout",
          "text": [
            "The total of each elements: 288\n"
          ]
        }
      ]
    },
    {
      "cell_type": "markdown",
      "source": [
        "Ο κώδικας ορίζει μια συνάρτηση που ονομάζεται get_sum η οποία παίρνει μια λίστα ακεραίων αριθμών και επιστρέφει το άθροισμά τους.\n",
        "Η μεταβλητή sum αρχικοποιείται στο 0 στην αρχή της συνάρτησης. Ένας βρόχος for επαναλαμβάνεται μέσω κάθε στοιχείου των αριθμών λίστας εισόδου.\n",
        "Στη συνέχεια, ο τρέχων ακέραιος προστίθεται στην μεταβλητή sum και αυτή η διαδικασία επαναλαμβάνεται μέχρι να αθροιστούν όλα τα στοιχεία της λίστας. Τέλος, η συνάρτηση επιστρέφει το υπολογισμένο άθροισμα.\n",
        "Μετά τον ορισμό της συνάρτησης, ο κώδικας δημιουργεί μια λίστα ακεραίων αριθμών που ονομάζεται nums και της εκχωρεί κάποιες τιμές. Καλεί τη συνάρτηση get_sum, περνώντας στη λίστα nums ως όρισμα. Η επιστρεφόμενη τιμή αποθηκεύεται στην μεταβλητή total.\n",
        "Τέλος, ο κώδικας εκτυπώνει τη συμβολοσειρά \"Το σύνολο των στοιχείων:\" ακολουθούμενη από την τιμή του συνόλου. Σε αυτήν την περίπτωση, η έξοδος θα είναι \"Το σύνολο κάθε στοιχείου: 288\", καθώς το άθροισμα των τιμών σε αριθμούς είναι 288."
      ],
      "metadata": {
        "id": "47Qx6BUiBAOp"
      }
    },
    {
      "cell_type": "markdown",
      "source": [
        "***Άσκηση plus 3.*** Βρείτε τον μέγιστο αριθμό δύο αριθμών."
      ],
      "metadata": {
        "id": "dxAi5QQjJm7P"
      }
    },
    {
      "cell_type": "code",
      "source": [],
      "metadata": {
        "id": "uoOzIWO5JvQG"
      },
      "execution_count": null,
      "outputs": []
    }
  ]
}